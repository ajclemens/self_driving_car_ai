{
 "cells": [
  {
   "cell_type": "code",
   "execution_count": 2,
   "metadata": {},
   "outputs": [],
   "source": [
    "import pandas as pd\n",
    "import numpy as np\n",
    "import matplotlib.pyplot as plt\n",
    "import matplotlib.image as mpimg\n",
    "import cv2, os\n",
    "from tensorflow.keras.models import Sequential \n",
    "from tensorflow.keras.layers import Dense, Dropout, Flatten, Conv2D, MaxPooling2D\n",
    "from tensorflow.keras.callbacks import EarlyStopping\n",
    "from sklearn.utils import shuffle"
   ]
  },
  {
   "cell_type": "code",
   "execution_count": 4,
   "metadata": {},
   "outputs": [],
   "source": [
    "drive = pd.read_csv('../../../../../source/repos/Car_Project/How_to_simulate_a_self_driving_car/data/driving_log_01.csv', names=['center','left','right','steering', 'throttle', 'reverse', 'speed'])"
   ]
  },
  {
   "cell_type": "code",
   "execution_count": 225,
   "metadata": {},
   "outputs": [
    {
     "data": {
      "text/plain": [
       "0.070   -1.0000\n",
       "0.092   -0.9968\n",
       "0.100   -0.8700\n",
       "0.150   -0.4500\n",
       "0.200   -0.2500\n",
       "0.250   -0.0500\n",
       "0.260   -0.0500\n",
       "0.270    0.0000\n",
       "0.890    0.0000\n",
       "0.900    0.1400\n",
       "0.910    0.3000\n",
       "0.920    0.5320\n",
       "0.930    0.7780\n",
       "0.935    0.9010\n",
       "0.936    0.9456\n",
       "0.937    0.9902\n",
       "0.938    1.0000\n",
       "Name: steering, dtype: float64"
      ]
     },
     "execution_count": 225,
     "metadata": {},
     "output_type": "execute_result"
    }
   ],
   "source": [
    "drive.steering.quantile(q=[0.07,0.092,0.1,0.15,0.2,0.25,0.26,0.27,0.89,0.9,0.91,0.92,0.93,0.935,0.936,0.937,0.938])"
   ]
  },
  {
   "cell_type": "code",
   "execution_count": 32,
   "metadata": {},
   "outputs": [],
   "source": [
    "import random\n",
    "list_Size = 447\n",
    "# random float from 1 to 99.9\n",
    "integer_list = random.sample(range(-447, 447), list_Size)\n",
    "float_list = [round(x/447,2) for x in integer_list]\n",
    "y_pred = pd.Series(float_list)"
   ]
  },
  {
   "cell_type": "code",
   "execution_count": 6,
   "metadata": {},
   "outputs": [
    {
     "data": {
      "text/plain": [
       "-1.00     42\n",
       "-0.90      2\n",
       "-0.90      1\n",
       "-0.85      2\n",
       "-0.80      2\n",
       "-0.70      3\n",
       "-0.65      2\n",
       "-0.60      5\n",
       "-0.55      1\n",
       "-0.50      4\n",
       "-0.50      1\n",
       "-0.45      6\n",
       "-0.40      8\n",
       "-0.35      3\n",
       "-0.30      6\n",
       "-0.25      6\n",
       "-0.20      9\n",
       "-0.15      2\n",
       "-0.10      5\n",
       "-0.10      1\n",
       "-0.05      6\n",
       " 0.00    281\n",
       " 0.10      4\n",
       " 0.20      1\n",
       " 0.25      1\n",
       " 0.30      3\n",
       " 0.40      1\n",
       " 0.45      2\n",
       " 0.50      1\n",
       " 0.60      2\n",
       " 0.65      1\n",
       " 0.70      1\n",
       " 0.80      1\n",
       " 0.85      1\n",
       " 0.90      1\n",
       " 1.00     29\n",
       "Name: steering, dtype: int64"
      ]
     },
     "execution_count": 6,
     "metadata": {},
     "output_type": "execute_result"
    }
   ],
   "source": [
    "drive.steering.value_counts().sort_index()"
   ]
  },
  {
   "cell_type": "code",
   "execution_count": 227,
   "metadata": {},
   "outputs": [
    {
     "data": {
      "image/png": "[encoded data removed]",
      "text/plain": [
       "<Figure size 432x288 with 1 Axes>"
      ]
     },
     "metadata": {
      "needs_background": "light"
     },
     "output_type": "display_data"
    }
   ],
   "source": [
    "drive.steering.value_counts().sort_index().hist();"
   ]
  },
  {
   "cell_type": "markdown",
   "metadata": {},
   "source": [
    "### "
   ]
  },
  {
   "cell_type": "code",
   "execution_count": 74,
   "metadata": {},
   "outputs": [],
   "source": [
    "import random\n",
    "list_Size = 447\n",
    "# random float from 1 to 99.9\n",
    "integer_list = random.sample(range(-447, 447), list_Size)\n",
    "float_list = [round(x/447,2) for x in integer_list]\n",
    "y_pred = pd.Series(float_list)"
   ]
  },
  {
   "cell_type": "code",
   "execution_count": 81,
   "metadata": {},
   "outputs": [
    {
     "data": {
      "text/plain": [
       "-0.99    3\n",
       "-0.98    5\n",
       "-0.97    2\n",
       "-0.96    3\n",
       "-0.95    2\n",
       "        ..\n",
       " 0.96    3\n",
       " 0.97    4\n",
       " 0.98    3\n",
       " 0.99    1\n",
       " 1.00    1\n",
       "Length: 194, dtype: int64"
      ]
     },
     "execution_count": 81,
     "metadata": {},
     "output_type": "execute_result"
    }
   ],
   "source": [
    "y_pred.value_counts().sort_index()"
   ]
  },
  {
   "cell_type": "code",
   "execution_count": 144,
   "metadata": {},
   "outputs": [],
   "source": [
    "def custom_loss(y_true, y_pred):\n",
    "    # These deltas looked like nodes in the steering angle train data\n",
    "    deltas = [ 0.0, 0.2, 0.4, 0.6 ]\n",
    "    # Select which delta\n",
    "    delta = deltas[1]\n",
    "    # For readability\n",
    "    resids = y_pred - y_true\n",
    "    sqr_resids = resids*resids\n",
    "    abs_resids = abs(resids)\n",
    "    # Residuals smaller than delta quadratic loss\n",
    "    loss_h = np.float64(0)\n",
    "    for i in range(len(y_pred)):\n",
    "        if abs_resids[i] <= delta:\n",
    "            loss_h += 0.5*sqr_resids[i]\n",
    "        # Residuals larger than delra linear loss\n",
    "        else:\n",
    "            loss_h += (abs_resids[i] - 0.5*delta)*delta\n",
    "    # Loss \"h\" if we want to discuss multiple loss-functions\n",
    "    return loss_h/len(y_pred)"
   ]
  },
  {
   "cell_type": "code",
   "execution_count": 145,
   "metadata": {},
   "outputs": [
    {
     "name": "stdout",
     "output_type": "stream",
     "text": [
      "0      0.0625\n",
      "1      0.0196\n",
      "2      0.9216\n",
      "3      0.4356\n",
      "4      0.0900\n",
      "        ...  \n",
      "442    0.1296\n",
      "443    0.4624\n",
      "444    0.1849\n",
      "445    1.0404\n",
      "446    0.5776\n",
      "Length: 447, dtype: float64\n"
     ]
    },
    {
     "data": {
      "text/plain": [
       "0.10663333434899329"
      ]
     },
     "execution_count": 145,
     "metadata": {},
     "output_type": "execute_result"
    }
   ],
   "source": [
    "custom_loss(drive.steering, y_pred)"
   ]
  },
  {
   "cell_type": "code",
   "execution_count": null,
   "metadata": {},
   "outputs": [],
   "source": [
    "# CREDIT: DIRECT FROM GA NOTES, DAN- LESSON 7p04 CNN\n",
    "# Visualize accuracy scores of model after trained on data\n",
    "def plot_loss(history, model_name):\n",
    "    train_loss = history.history['loss'] \n",
    "    test_loss = history.history['val_loss'] \n",
    "    epoch_labels = history.epoch \n",
    "    # Set figure size\n",
    "    plt.figure(figsize=(12, 8)) \n",
    "    # Generate line plot of training, testing loss over epochs\n",
    "    plt.plot(train_loss, label='Training Loss', color='#185fad') \n",
    "    plt.plot(test_loss, label='Validation Loss', color='orange') \n",
    "    # Set title\n",
    "    plt.title(f'Model: {model_name}\\nTrain & Validation Loss by Epoch', fontsize=25) \n",
    "    plt.xlabel('Epoch', fontsize=18) \n",
    "    plt.ylabel('Categorical Crossentropy', fontsize=18) \n",
    "    plt.xticks(epoch_labels, epoch_labels)\n",
    "    plt.legend(fontsize=18);"
   ]
  }
 ],
 "metadata": {
  "kernelspec": {
   "display_name": "Python 3",
   "language": "python",
   "name": "python3"
  },
  "language_info": {
   "codemirror_mode": {
    "name": "ipython",
    "version": 3
   },
   "file_extension": ".py",
   "mimetype": "text/x-python",
   "name": "python",
   "nbconvert_exporter": "python",
   "pygments_lexer": "ipython3",
   "version": "3.8.3"
  }
 },
 "nbformat": 4,
 "nbformat_minor": 4
}
