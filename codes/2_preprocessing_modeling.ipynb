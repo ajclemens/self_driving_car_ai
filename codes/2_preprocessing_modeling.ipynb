{
 "cells": [
  {
   "cell_type": "markdown",
   "metadata": {},
   "source": [
    "# ![](https://ga-dash.s3.amazonaws.com/production/assets/logo-9f88ae6c9c3871690e33280fcf557f33.png) Optimizing Self-Driving\n",
    "\n",
    "Notebook 2 - Preprocessing & Modeling (part 1)"
   ]
  },
  {
   "cell_type": "code",
   "execution_count": 1,
   "metadata": {},
   "outputs": [],
   "source": [
    "import pandas as pd\n",
    "import numpy as np\n",
    "import matplotlib.pyplot as plt\n",
    "import matplotlib.image as mpimg\n",
    "import seaborn as sns\n",
    "import cv2\n",
    "import random\n",
    "from os.path import exists\n",
    "from sklearn.utils import shuffle\n",
    "from sklearn.model_selection import train_test_split\n",
    "\n",
    "from tensorflow.keras.models import Sequential, load_model\n",
    "from tensorflow.keras.layers import Flatten, Dense, Lambda, Cropping2D, Conv2D, MaxPooling2D, Dropout\n",
    "from tensorflow.keras.callbacks import ModelCheckpoint"
   ]
  },
  {
   "cell_type": "code",
   "execution_count": 2,
   "metadata": {},
   "outputs": [],
   "source": [
    "np.random.seed(42)\n",
    "df = pd.read_csv('../data/merged_driving_log.csv')"
   ]
  },
  {
   "cell_type": "markdown",
   "metadata": {},
   "source": [
    "### Image Augmentation"
   ]
  },
  {
   "cell_type": "markdown",
   "metadata": {},
   "source": [
    "As discussed in the EDA section, there are a number of issues about our data that we need to address to improve their quality. We are hereby resort to image augmentation to achieve our goal. To be able to call the augmentation easily, we would create a function for each augmentation methods. The methods we will be using are as follows: \n",
    "\n",
    "- Cropping\n",
    "\n",
    "  The images have irrelevant information such as sky and car front which do not help with the training. We therefore will cut them out.\n",
    "  \n",
    "- Resizing\n",
    "\n",
    "  After cropping the images, we would resize them to match the input size of the network of 66x200 (details in notebook 3).\n",
    "\n",
    "- Flipping\n",
    "\n",
    "  To mitigate the bias in the direction of turning, we will flip the images horizontally to create a balanced training dataset.\n",
    "  \n",
    "- Random brightness (inspired by [Nick Condo](https://github.com/ncondo/CarND-Behavioral-Cloning)'s work)\n",
    "\n",
    "  To ensure the data can be more generalized, we will randomly adjust the brightness of the images by converting the image to HSV color space and adjusting the V channel)\n",
    "  \n",
    "- Random Shadow (inspired by [Ujjwal Saxena](https://www.freecodecamp.org/news/image-augmentation-make-it-rain-make-it-snow-how-to-modify-a-photo-with-machine-learning-163c0cb3843f/)'s blog)\n",
    "\n",
    "  Similar to the random brightness, adding random shadow to training data helps generalize the model under different lighting/weather conditions.\n",
    "  \n",
    "- Convert to YUV\n",
    "\n",
    "  As suggested by NVIDIA model, we will also convert the image from RGB to YUV to feed the model."
   ]
  },
  {
   "cell_type": "code",
   "execution_count": 3,
   "metadata": {},
   "outputs": [],
   "source": [
    "# create the crop function\n",
    "\n",
    "def crop(img):\n",
    "    img = img[50:-25, :, :]\n",
    "    return img"
   ]
  },
  {
   "cell_type": "code",
   "execution_count": 4,
   "metadata": {},
   "outputs": [],
   "source": [
    "# new image size after resizing\n",
    "\n",
    "new_height, new_width, new_channel = (66, 200, 3)"
   ]
  },
  {
   "cell_type": "code",
   "execution_count": 5,
   "metadata": {},
   "outputs": [],
   "source": [
    "# create the resize function\n",
    "\n",
    "def resize(img):\n",
    "    img = cv2.resize(img, (new_width, new_height), cv2.INTER_AREA)\n",
    "    return img"
   ]
  },
  {
   "cell_type": "code",
   "execution_count": 6,
   "metadata": {},
   "outputs": [],
   "source": [
    "# create the flip function\n",
    "\n",
    "def flip(img, angle):\n",
    "    img = cv2.flip(img, 1)\n",
    "    angle *= -1\n",
    "    return (img, angle)"
   ]
  },
  {
   "cell_type": "code",
   "execution_count": 7,
   "metadata": {},
   "outputs": [],
   "source": [
    "# create random brightness function\n",
    "# credit: thanks to Nick Condo https://github.com/ncondo/CarND-Behavioral-Cloning/blob/master/model.py\n",
    "\n",
    "def brightness(img):\n",
    "    img = cv2.cvtColor(img, cv2.COLOR_RGB2HSV)\n",
    "    # adjust saturation\n",
    "    brightness = .25 + np.random.uniform()\n",
    "    img[:, :, 2] = img[:, :, 2] * brightness\n",
    "    img = cv2.cvtColor(img, cv2.COLOR_HSV2RGB)\n",
    "    return img"
   ]
  },
  {
   "cell_type": "code",
   "execution_count": 8,
   "metadata": {},
   "outputs": [],
   "source": [
    "# create random brightness function\n",
    "# credit: thanks to Naoki Shibuya https://github.com/naokishibuya/car-behavioral-cloning/blob/master/utils.py\n",
    "\n",
    "def shadow(img):\n",
    "    new_height, new_width, new_channel = (66, 200, 3)\n",
    "\n",
    "    # (x1, y1) and (x2, y2) forms a line\n",
    "    # xm, ym gives all the locations of the image\n",
    "    \n",
    "    x1, y1 = new_width * np.random.rand(), 0\n",
    "    x2, y2 = new_width * np.random.rand(), new_height\n",
    "    xm, ym = np.mgrid[0: new_height, 0: new_width] \n",
    "    \n",
    "    # to avoid zero-division problem, we'll write the line in the below form:\n",
    "    # (ym-y1)*(x2-x1) - (y2-y1)*(xm-x1) > 0\n",
    "    mask = np.zeros_like(img[:, :, 1])\n",
    "    mask[(ym - y1) * (x2 - x1) - (y2 - y1) * (xm - x1) > 0] = 1\n",
    "\n",
    "    # choose which side should have shadow\n",
    "    cond = mask == np.random.randint(2)\n",
    "   \n",
    "    img = cv2.cvtColor(img, cv2.COLOR_RGB2HSV)\n",
    "    # adjust saturation\n",
    "    shadow = np.random.uniform(low=0.2, high=0.5)\n",
    "    img[:, :, 1][cond] = img[:, :, 1][cond] * shadow\n",
    "    img = cv2.cvtColor(img, cv2.COLOR_HSV2RGB)\n",
    "    return img"
   ]
  },
  {
   "cell_type": "code",
   "execution_count": 9,
   "metadata": {},
   "outputs": [],
   "source": [
    "# convert rgb to yuv \n",
    "\n",
    "def convert_yuv(img):\n",
    "    img = cv2.cvtColor(img, cv2.COLOR_RGB2YUV)\n",
    "    return img"
   ]
  },
  {
   "cell_type": "code",
   "execution_count": 10,
   "metadata": {},
   "outputs": [],
   "source": [
    "# To combine some of the preprocessings together\n",
    "\n",
    "def preprocessing(img): #, angle):\n",
    "    img = crop(img)\n",
    "    img = resize(img)\n",
    "    img = brightness(img)\n",
    "#    img = shadow(img)\n",
    "#     img = flip(img, angle)\n",
    "    img = convert_yuv(img)\n",
    "    return img"
   ]
  },
  {
   "cell_type": "code",
   "execution_count": 12,
   "metadata": {},
   "outputs": [
    {
     "data": {
      "image/png": "[encoded data removed]",
      "text/plain": [
       "<Figure size 432x288 with 1 Axes>"
      ]
     },
     "metadata": {
      "needs_background": "light"
     },
     "output_type": "display_data"
    }
   ],
   "source": [
    "img = mpimg.imread('../data/'+df.center[0])\n",
    "plt.imshow(img);"
   ]
  },
  {
   "cell_type": "markdown",
   "metadata": {},
   "source": [
    "### Compile Training Data"
   ]
  },
  {
   "cell_type": "code",
   "execution_count": 12,
   "metadata": {},
   "outputs": [],
   "source": [
    "def get_data(df):\n",
    "    img, angle = [], []\n",
    "    correction = 0.25\n",
    "    for i in range(len(df.index)):\n",
    "        df.iloc[i,3] = float(df.iloc[i, 3])\n",
    "        img.append([df.iloc[i,0], df.iloc[i,1], df.iloc[i,2]])\n",
    "        angle.append([df.iloc[i,3], df.iloc[i,3] + correction, df.iloc[i,3] - correction])\n",
    "    return img, angle"
   ]
  },
  {
   "cell_type": "code",
   "execution_count": 13,
   "metadata": {},
   "outputs": [],
   "source": [
    "# get our model features and target\n",
    "\n",
    "X, y = get_data(df)\n",
    "\n",
    "# shuffle the data to as the original are highly correlated \n",
    "X, y = shuffle(X, y, random_state = 42)"
   ]
  },
  {
   "cell_type": "markdown",
   "metadata": {},
   "source": [
    "### Model Architecture"
   ]
  },
  {
   "cell_type": "markdown",
   "metadata": {},
   "source": [
    "1. based on [NVIDIA](https://arxiv.org/pdf/1604.07316v1.pdf) model\n",
    "\n",
    "<img src='../charts/cnn_architecture.png' style=\"float: left; width: 375px;\"/>"
   ]
  },
  {
   "cell_type": "markdown",
   "metadata": {},
   "source": [
    "### Without Batch Generator"
   ]
  },
  {
   "cell_type": "code",
   "execution_count": 14,
   "metadata": {},
   "outputs": [],
   "source": [
    "new_height, new_width, new_channel = (66, 200, 3)\n",
    "    \n",
    "images = []\n",
    "angles = []\n",
    "straight_count = 0\n",
    "\n",
    "for i in range(len(X)):\n",
    "    # Select a random index to use for data sample\n",
    "    sample_ids = random.randrange(len(X))\n",
    "    image_ids = random.randrange(len(X[0]))\n",
    "    angle = y[sample_ids][image_ids]\n",
    "            \n",
    "    # Limit angles of less than absolute value of .1 to no more than 1/2 of data\n",
    "    # to reduce bias of car driving straig\n",
    "    if abs(angle) < .15:\n",
    "        straight_count += 1\n",
    "    if straight_count > (len(X) * .5):\n",
    "        while abs(y[sample_ids][image_ids]) < .15:\n",
    "            sample_ids = random.randrange(len(X))\n",
    "                    \n",
    "    # Read image in from directory, process, and convert to numpy array\n",
    "    if exists('../data/' + str(X[sample_ids][image_ids])):\n",
    "        img = mpimg.imread('../data/' + str(X[sample_ids][image_ids]))\n",
    "        img = preprocessing(img)\n",
    "        img = np.asarray(img, dtype=np.float32)\n",
    "    else:\n",
    "        continue\n",
    "\n",
    "#     # Flip image and apply opposite angle 50% of the time\n",
    "#     if random.randrange(2) == 1:\n",
    "#         img, angle = flip(img, angle)\n",
    "    images.append(img)\n",
    "    angles.append(angle)"
   ]
  },
  {
   "cell_type": "code",
   "execution_count": 15,
   "metadata": {},
   "outputs": [],
   "source": [
    "X_new, y_new = images, angles\n",
    "X_new = np.asarray(X_new)\n",
    "y_new = np.asarray(y_new)\n",
    "\n",
    "X_train_new, X_test_new, y_train_new, y_test_new = train_test_split(X_new, y_new,\n",
    "                                                                   random_state = 42)"
   ]
  },
  {
   "cell_type": "code",
   "execution_count": 16,
   "metadata": {
    "scrolled": true
   },
   "outputs": [
    {
     "name": "stdout",
     "output_type": "stream",
     "text": [
      "Epoch 1/20\n",
      "6938/6938 [==============================] - 25s 4ms/step - loss: 153.4847 - val_loss: 0.0596\n",
      "Epoch 2/20\n",
      "6938/6938 [==============================] - 25s 4ms/step - loss: 0.0890 - val_loss: 0.1279\n",
      "Epoch 3/20\n",
      "6938/6938 [==============================] - 25s 4ms/step - loss: 0.1058 - val_loss: 0.0562\n",
      "Epoch 4/20\n",
      "6938/6938 [==============================] - 25s 4ms/step - loss: 1.2270 - val_loss: 0.2834\n",
      "Epoch 5/20\n",
      "6938/6938 [==============================] - 26s 4ms/step - loss: 0.0930 - val_loss: 0.1312\n",
      "Epoch 6/20\n",
      "6938/6938 [==============================] - 25s 4ms/step - loss: 0.0705 - val_loss: 0.0563\n",
      "Epoch 7/20\n",
      "6938/6938 [==============================] - 25s 4ms/step - loss: 0.0623 - val_loss: 0.0564\n",
      "Epoch 8/20\n",
      "6938/6938 [==============================] - 25s 4ms/step - loss: 0.0593 - val_loss: 0.0562\n",
      "Epoch 9/20\n",
      "6938/6938 [==============================] - 25s 4ms/step - loss: 0.0587 - val_loss: 0.0601\n",
      "Epoch 10/20\n",
      "6938/6938 [==============================] - 25s 4ms/step - loss: 0.0580 - val_loss: 0.0563\n",
      "Epoch 11/20\n",
      "6938/6938 [==============================] - 25s 4ms/step - loss: 0.0575 - val_loss: 0.0564\n",
      "Epoch 12/20\n",
      "6938/6938 [==============================] - 25s 4ms/step - loss: 0.0575 - val_loss: 0.0562\n",
      "Epoch 13/20\n",
      "6938/6938 [==============================] - 25s 4ms/step - loss: 0.0574 - val_loss: 0.0562\n",
      "Epoch 14/20\n",
      "6938/6938 [==============================] - 25s 4ms/step - loss: 0.0571 - val_loss: 0.0565\n",
      "Epoch 15/20\n",
      "6938/6938 [==============================] - 25s 4ms/step - loss: 0.0569 - val_loss: 0.0563\n",
      "Epoch 16/20\n",
      "6938/6938 [==============================] - 25s 4ms/step - loss: 0.0569 - val_loss: 0.0563\n",
      "Epoch 17/20\n",
      "6938/6938 [==============================] - 26s 4ms/step - loss: 0.0570 - val_loss: 0.0563\n",
      "Epoch 18/20\n",
      "6938/6938 [==============================] - 25s 4ms/step - loss: 0.0570 - val_loss: 0.0562\n",
      "Epoch 19/20\n",
      "6938/6938 [==============================] - 25s 4ms/step - loss: 0.0570 - val_loss: 0.0562\n",
      "Epoch 20/20\n",
      "6938/6938 [==============================] - 25s 4ms/step - loss: 0.0569 - val_loss: 0.0565\n"
     ]
    },
    {
     "data": {
      "text/plain": [
       "<tensorflow.python.keras.callbacks.History at 0x7f096401c810>"
      ]
     },
     "execution_count": 16,
     "metadata": {},
     "output_type": "execute_result"
    }
   ],
   "source": [
    "model = Sequential()\n",
    "model.add(Lambda(lambda x: (x / 127.5) - 1, input_shape=(66, 200, 3)))\n",
    "model.add(Conv2D(24, (5, 5), activation=\"elu\", strides=(2, 2)))\n",
    "model.add(Conv2D(36, (5, 5), activation=\"elu\", strides=(2, 2)))\n",
    "model.add(Conv2D(48, (5, 5), activation=\"elu\", strides=(2, 2)))\n",
    "model.add(Dropout(0.3))\n",
    "model.add(Conv2D(64, (3, 3), activation=\"elu\"))\n",
    "model.add(Conv2D(64, (3, 3), activation=\"elu\"))\n",
    "model.add(Flatten())\n",
    "model.add(Dense(100))\n",
    "model.add(Dense(50))\n",
    "model.add(Dense(10))\n",
    "model.add(Dense(1))\n",
    "\n",
    "model.compile(loss = 'mse', optimizer = 'adam')\n",
    "\n",
    "\n",
    "checkpoint = ModelCheckpoint('model-{epoch:03d}.h5',\n",
    "                                 monitor='val_loss',\n",
    "                                 verbose=0,\n",
    "                                 save_best_only=True,\n",
    "                                 mode='auto')\n",
    "\n",
    "model.fit(X_train_new, y_train_new,\n",
    "          batch_size = 1,\n",
    "          validation_data = (X_test_new, y_test_new),\n",
    "          epochs = 20,\n",
    "          verbose = 1,\n",
    "          callbacks = [checkpoint])\n",
    "\n",
    "model.save('../assets/model_no_gen.h5')\n",
    "model.save('../assets/model_no_gen')"
   ]
  },
  {
   "cell_type": "markdown",
   "metadata": {},
   "source": [
    "#### Takeaway: \n",
    "\n",
    "1. the smaller batch size, the better; \n",
    "2. epochs cannot exceed 20, otherwise the output doesn't change; \n",
    "3. model has hard time making big turns; best model lasts 26s on the track, run model_no_gen.h5; \n",
    "4. without flipping performs better than using flipping \n",
    "5. too many dropout layers cause very bad models"
   ]
  },
  {
   "cell_type": "markdown",
   "metadata": {},
   "source": [
    "### Model Tuning - Transfer Learning"
   ]
  },
  {
   "cell_type": "markdown",
   "metadata": {},
   "source": [
    "Converting the image data into arrays for modeling."
   ]
  },
  {
   "cell_type": "code",
   "execution_count": 19,
   "metadata": {},
   "outputs": [],
   "source": [
    "# train test split\n",
    "X_train, X_test, y_train, y_test = train_test_split(X, y, \n",
    "                                                    random_state = 42)"
   ]
  },
  {
   "cell_type": "code",
   "execution_count": 17,
   "metadata": {},
   "outputs": [],
   "source": [
    "# credit: https://github.com/ncondo/CarND-Behavioral-Cloning/blob/master/model.py\n",
    "\n",
    "def generate_batch(X, y, batch_size = 64):\n",
    "    \n",
    "    new_height, new_width, new_channel = (66, 200, 3)\n",
    "    \n",
    "    images = np.zeros((batch_size, new_height, new_width, new_channel))\n",
    "    angles = np.zeros((batch_size,))\n",
    "    \n",
    "    while True:\n",
    "        \n",
    "        straight_count = 0\n",
    "        \n",
    "        for i in range(batch_size):\n",
    "            # Select a random index to use for data sample\n",
    "            sample_ids = random.randrange(len(X))\n",
    "            image_ids = random.randrange(len(X[0]))\n",
    "            angle = y[sample_ids][image_ids]\n",
    "            \n",
    "            # Limit angles of less than absolute value of .1 to no more than 1/2 of data\n",
    "            # to reduce bias of car driving straig\n",
    "            if abs(angle) < .15:\n",
    "                straight_count += 1\n",
    "            if straight_count > (batch_size * .75):\n",
    "                while abs(y[sample_ids][image_ids]) < .15:\n",
    "                    sample_ids = random.randrange(len(X))\n",
    "                    \n",
    "            # Read image in from directory, process, and convert to numpy array\n",
    "            if exists('../data/' + str(X[sample_ids][image_ids])):\n",
    "                img = mpimg.imread('../data/' + str(X[sample_ids][image_ids]))\n",
    "                img = preprocessing(img)\n",
    "                img = np.asarray(img)\n",
    "            else:\n",
    "                continue\n",
    "\n",
    "            # Flip image and apply opposite angle 50% of the time\n",
    "            if random.randrange(2) == 1:\n",
    "                img, angle = flip(img, angle)\n",
    "            images[i] = img\n",
    "            angles[i] = angle\n",
    "        \n",
    "        yield images, angles"
   ]
  },
  {
   "cell_type": "code",
   "execution_count": 52,
   "metadata": {
    "scrolled": true
   },
   "outputs": [
    {
     "name": "stdout",
     "output_type": "stream",
     "text": [
      "Epoch 1/10\n",
      "20000/20000 [==============================] - 2537s 127ms/step - loss: 0.0239 - val_loss: 0.0156\n",
      "Epoch 2/10\n",
      "20000/20000 [==============================] - 2633s 132ms/step - loss: 0.0188 - val_loss: 0.0154\n",
      "Epoch 3/10\n",
      "20000/20000 [==============================] - 2587s 129ms/step - loss: 0.0172 - val_loss: 0.0156\n",
      "Epoch 4/10\n",
      "20000/20000 [==============================] - 2742s 137ms/step - loss: 0.0162 - val_loss: 0.0146\n",
      "Epoch 5/10\n",
      "20000/20000 [==============================] - 2723s 136ms/step - loss: 0.0158 - val_loss: 0.0137\n",
      "Epoch 6/10\n",
      "20000/20000 [==============================] - 2727s 136ms/step - loss: 0.0154 - val_loss: 0.0150\n",
      "Epoch 7/10\n",
      "20000/20000 [==============================] - 2648s 132ms/step - loss: 0.0152 - val_loss: 0.0143\n",
      "Epoch 8/10\n",
      "20000/20000 [==============================] - 2615s 131ms/step - loss: 0.0150 - val_loss: 0.0145\n",
      "Epoch 9/10\n",
      "20000/20000 [==============================] - 2658s 133ms/step - loss: 0.0149 - val_loss: 0.0142\n",
      "Epoch 10/10\n",
      "20000/20000 [==============================] - 2648s 132ms/step - loss: 0.0148 - val_loss: 0.0136\n"
     ]
    }
   ],
   "source": [
    "model = Sequential()\n",
    "model.add(Lambda(lambda x: (x / 255.0) - 0.5, input_shape=(66, 200, 3)))\n",
    "model.add(Conv2D(24, (5, 5), activation=\"relu\", strides=(2, 2)))\n",
    "model.add(Conv2D(36, (5, 5), activation=\"relu\", strides=(2, 2)))\n",
    "model.add(Conv2D(48, (5, 5), activation=\"relu\", strides=(2, 2)))\n",
    "model.add(Conv2D(64, (3, 3), activation=\"relu\"))\n",
    "model.add(Conv2D(64, (3, 3), activation=\"relu\"))\n",
    "model.add(Flatten())\n",
    "model.add(Dropout(0.3))\n",
    "model.add(Dense(100))\n",
    "model.add(Dense(50))\n",
    "model.add(Dense(10))\n",
    "model.add(Dense(1))\n",
    "\n",
    "model.compile(loss = 'mse', optimizer = 'adam')\n",
    "\n",
    "es = EarlyStopping(patience = 5)\n",
    "\n",
    "model.fit(x = generate_batch(X_train, y_train),\n",
    "          steps_per_epoch = 20000,\n",
    "          validation_data = generate_batch(X_test, y_test),\n",
    "          validation_steps = len(X_test),\n",
    "          epochs = 10,\n",
    "          verbose = 1,\n",
    "          callbacks = [es])\n",
    "\n",
    "model.save('../assets/model.h5')\n",
    "model.save('../assets/model')"
   ]
  },
  {
   "cell_type": "markdown",
   "metadata": {},
   "source": [
    "Performs very bad. Use model.h5 to see."
   ]
  },
  {
   "cell_type": "code",
   "execution_count": 21,
   "metadata": {
    "scrolled": true
   },
   "outputs": [
    {
     "name": "stdout",
     "output_type": "stream",
     "text": [
      "Epoch 1/30\n",
      "109/108 [==============================] - 18s 167ms/step - loss: 0.0559 - val_loss: 0.0366\n",
      "Epoch 2/30\n",
      "109/108 [==============================] - 18s 163ms/step - loss: 0.0384 - val_loss: 0.0339\n",
      "Epoch 3/30\n",
      "109/108 [==============================] - 18s 163ms/step - loss: 0.0361 - val_loss: 0.0282\n",
      "Epoch 4/30\n",
      "109/108 [==============================] - 18s 161ms/step - loss: 0.0318 - val_loss: 0.0287\n",
      "Epoch 5/30\n",
      "109/108 [==============================] - 18s 163ms/step - loss: 0.0323 - val_loss: 0.0284\n",
      "Epoch 6/30\n",
      "109/108 [==============================] - 18s 164ms/step - loss: 0.0313 - val_loss: 0.0256\n",
      "Epoch 7/30\n",
      "109/108 [==============================] - 18s 164ms/step - loss: 0.0303 - val_loss: 0.0283\n",
      "Epoch 8/30\n",
      "109/108 [==============================] - 18s 163ms/step - loss: 0.0297 - val_loss: 0.0264\n",
      "Epoch 9/30\n",
      "109/108 [==============================] - 18s 161ms/step - loss: 0.0333 - val_loss: 0.0291\n",
      "Epoch 10/30\n",
      "109/108 [==============================] - 18s 164ms/step - loss: 0.0289 - val_loss: 0.0272\n",
      "Epoch 11/30\n",
      "109/108 [==============================] - 18s 165ms/step - loss: 0.0279 - val_loss: 0.0263\n",
      "Epoch 12/30\n",
      "109/108 [==============================] - 18s 164ms/step - loss: 0.0274 - val_loss: 0.0241\n",
      "Epoch 13/30\n",
      "109/108 [==============================] - 18s 164ms/step - loss: 0.0269 - val_loss: 0.0245\n",
      "Epoch 14/30\n",
      "109/108 [==============================] - 18s 163ms/step - loss: 0.0256 - val_loss: 0.0239\n",
      "Epoch 15/30\n",
      "109/108 [==============================] - 18s 163ms/step - loss: 0.0252 - val_loss: 0.0232\n",
      "Epoch 16/30\n",
      "109/108 [==============================] - 18s 164ms/step - loss: 0.0254 - val_loss: 0.0256\n",
      "Epoch 17/30\n",
      "109/108 [==============================] - 18s 163ms/step - loss: 0.0247 - val_loss: 0.0242\n",
      "Epoch 18/30\n",
      "109/108 [==============================] - 18s 165ms/step - loss: 0.0260 - val_loss: 0.0220\n",
      "Epoch 19/30\n",
      "109/108 [==============================] - 18s 166ms/step - loss: 0.0253 - val_loss: 0.0213\n",
      "Epoch 20/30\n",
      "109/108 [==============================] - 18s 164ms/step - loss: 0.0252 - val_loss: 0.0227\n",
      "Epoch 21/30\n",
      "109/108 [==============================] - 18s 164ms/step - loss: 0.0245 - val_loss: 0.0242\n",
      "Epoch 22/30\n",
      "109/108 [==============================] - 18s 163ms/step - loss: 0.0247 - val_loss: 0.0222\n",
      "Epoch 23/30\n",
      "109/108 [==============================] - 18s 165ms/step - loss: 0.0246 - val_loss: 0.0232\n",
      "Epoch 24/30\n",
      "109/108 [==============================] - 18s 163ms/step - loss: 0.0237 - val_loss: 0.0226\n",
      "Epoch 25/30\n",
      "109/108 [==============================] - 18s 163ms/step - loss: 0.0237 - val_loss: 0.0222\n",
      "Epoch 26/30\n",
      "109/108 [==============================] - 18s 162ms/step - loss: 0.0229 - val_loss: 0.0238\n",
      "Epoch 27/30\n",
      "109/108 [==============================] - 18s 163ms/step - loss: 0.0230 - val_loss: 0.0229\n",
      "Epoch 28/30\n",
      "109/108 [==============================] - 18s 162ms/step - loss: 0.0250 - val_loss: 0.0222\n",
      "Epoch 29/30\n",
      "109/108 [==============================] - 18s 162ms/step - loss: 0.0240 - val_loss: 0.0221\n",
      "Epoch 30/30\n",
      "109/108 [==============================] - 18s 164ms/step - loss: 0.0242 - val_loss: 0.0217\n"
     ]
    }
   ],
   "source": [
    "model = Sequential()\n",
    "model.add(Lambda(lambda x: (x / 127.5) - 1, input_shape=(66, 200, 3)))\n",
    "model.add(Conv2D(24, (5, 5), activation=\"elu\", strides=(2, 2)))\n",
    "model.add(Conv2D(36, (5, 5), activation=\"elu\", strides=(2, 2)))\n",
    "model.add(Conv2D(48, (5, 5), activation=\"elu\", strides=(2, 2)))\n",
    "model.add(Conv2D(64, (3, 3), activation=\"elu\"))\n",
    "model.add(Conv2D(64, (3, 3), activation=\"elu\"))\n",
    "model.add(Flatten())\n",
    "model.add(Dropout(0.5))\n",
    "model.add(Dense(100, activation='elu'))\n",
    "model.add(Dropout(0.3))\n",
    "model.add(Dense(50, activation='elu'))\n",
    "model.add(Dense(10, activation='elu'))\n",
    "model.add(Dense(1))\n",
    "\n",
    "model.compile(loss = 'mse', optimizer = 'adam')\n",
    "\n",
    "checkpoint = ModelCheckpoint('model-{epoch:03d}.h5',\n",
    "                                 monitor='val_loss',\n",
    "                                 verbose=0,\n",
    "                                 save_best_only=True,\n",
    "                                 mode='auto')\n",
    "\n",
    "model.fit(x = generate_batch(X_train, y_train),\n",
    "          validation_data = generate_batch(X_test, y_test),\n",
    "          steps_per_epoch = len(X_train)/64,\n",
    "          validation_steps = len(X_test)/64,\n",
    "          epochs = 20,\n",
    "          verbose = 1,\n",
    "          callbacks = [checkpoint])\n",
    "\n",
    "# model.save('../assets/model_tune.h5')\n",
    "model.save('../assets/model_tune')"
   ]
  },
  {
   "cell_type": "markdown",
   "metadata": {},
   "source": [
    "12 epochs perfomrs the best which lasted 16s on track however with big sway. "
   ]
  },
  {
   "cell_type": "markdown",
   "metadata": {},
   "source": [
    "#### Takeaway\n",
    "1. models without batch generator perform better;\n",
    "2. higher steps per epoch result in output not updating, didn't result in better performance\n",
    "3. models that converge are not necessarily the best performing models\n",
    "4. too many dropout layers hurt the model\n",
    "5. lower mse doesn't mean better performance"
   ]
  },
  {
   "cell_type": "markdown",
   "metadata": {},
   "source": [
    "### Further Tuning"
   ]
  },
  {
   "cell_type": "code",
   "execution_count": 11,
   "metadata": {},
   "outputs": [],
   "source": [
    "def get_data_new(df):\n",
    "    img, angle = [], []\n",
    "    correction = 0.25\n",
    "    for i in range(len(df.index)):\n",
    "        df.iloc[i,3] = float(df.iloc[i, 3])\n",
    "        img.append(df.iloc[i,0])\n",
    "        img.append(df.iloc[i,1])\n",
    "        img.append(df.iloc[i,2])\n",
    "        angle.append(df.iloc[i,3])\n",
    "        angle.append(df.iloc[i,3] + correction)\n",
    "        angle.append(df.iloc[i,3] - correction)\n",
    "    return img, angle\n",
    "\n",
    "X, y = get_data_new(df)\n",
    "\n",
    "X_tr, X_ts, y_tr, y_ts = train_test_split(X, y, random_state =42)"
   ]
  },
  {
   "cell_type": "code",
   "execution_count": 16,
   "metadata": {},
   "outputs": [],
   "source": [
    "def generate(X, y, batch_size = 64):\n",
    "    \n",
    "    new_height, new_width, new_channel = (66, 200, 3)\n",
    "    \n",
    "    images = np.zeros((batch_size, new_height, new_width, new_channel))\n",
    "    angles = np.zeros((batch_size,))\n",
    "    \n",
    "    while True:\n",
    "        \n",
    "        straight_count = 0\n",
    "        \n",
    "        for i in range(batch_size):\n",
    "            # Select a random index to use for data sample\n",
    "            ids = random.randrange(len(X))\n",
    "            angle = y[ids]\n",
    "            \n",
    "            # Limit angles of less than absolute value of .1 to no more than 1/2 of data\n",
    "            # to reduce bias of car driving straig\n",
    "#             if abs(angle) < .15:\n",
    "#                 straight_count += 1\n",
    "#             if straight_count > (batch_size * .5):\n",
    "#                 while abs(angle) < .15:\n",
    "#                     ids = random.randrange(len(X))\n",
    "                    \n",
    "            # Read image in from directory, process, and convert to numpy array\n",
    "            if exists('../data/' + str(X[ids])):\n",
    "                img = mpimg.imread('../data/' + str(X[ids]))\n",
    "                img = preprocessing(img)\n",
    "                img = np.asarray(img)\n",
    "            else:\n",
    "                continue\n",
    "\n",
    "            # Flip image and apply opposite angle 50% of the time\n",
    "            if random.randrange(2) == 1:\n",
    "                img, angle = flip(img, angle)\n",
    "            images[i] = img\n",
    "            angles[i] = angle\n",
    "        \n",
    "        yield images, angles"
   ]
  },
  {
   "cell_type": "code",
   "execution_count": 17,
   "metadata": {},
   "outputs": [
    {
     "name": "stdout",
     "output_type": "stream",
     "text": [
      "Epoch 1/3\n",
      "20000/20000 [==============================] - 2632s 132ms/step - loss: 0.0152 - val_loss: 0.0131\n",
      "Epoch 2/3\n",
      "20000/20000 [==============================] - 2541s 127ms/step - loss: 0.0053 - val_loss: 0.0123\n",
      "Epoch 3/3\n",
      "20000/20000 [==============================] - 2430s 121ms/step - loss: 0.0038 - val_loss: 0.0120\n"
     ]
    }
   ],
   "source": [
    "model = Sequential()\n",
    "model.add(Lambda(lambda x: (x / 255.0) - 0.5, input_shape=(66, 200, 3)))\n",
    "model.add(Conv2D(24, (5, 5), activation=\"elu\", strides=(2, 2)))\n",
    "model.add(Conv2D(36, (5, 5), activation=\"elu\", strides=(2, 2)))\n",
    "model.add(Conv2D(48, (5, 5), activation=\"elu\", strides=(2, 2)))\n",
    "model.add(Conv2D(64, (3, 3), activation=\"elu\"))\n",
    "model.add(Conv2D(64, (3, 3), activation=\"elu\"))\n",
    "model.add(Flatten())\n",
    "model.add(Dropout(0.3))\n",
    "model.add(Dense(100))\n",
    "model.add(Dense(50))\n",
    "model.add(Dense(10))\n",
    "model.add(Dense(1))\n",
    "\n",
    "model.compile(loss = 'mse', optimizer = 'adam')\n",
    "\n",
    "checkpoint = ModelCheckpoint('model-{epoch:03d}.h5',\n",
    "                                 monitor='val_loss',\n",
    "                                 verbose=0,\n",
    "                                 save_best_only=True,\n",
    "                                 mode='auto')\n",
    "\n",
    "model.fit(x = generate(X_tr, y_tr),\n",
    "          steps_per_epoch = 20000,\n",
    "          validation_data = generate(X_ts, y_ts),\n",
    "          validation_steps = len(X_ts),\n",
    "          epochs = 3,\n",
    "          verbose = 1,\n",
    "          callbacks = [checkpoint])\n",
    "\n",
    "model.save('model_further.h5')\n",
    "#model.save('model')"
   ]
  },
  {
   "cell_type": "code",
   "execution_count": 18,
   "metadata": {},
   "outputs": [
    {
     "name": "stdout",
     "output_type": "stream",
     "text": [
      "Epoch 1/3\n",
      "20000/20000 [==============================] - 2589s 129ms/step - loss: 0.0073 - val_loss: 0.0062\n",
      "Epoch 2/3\n",
      "20000/20000 [==============================] - 2638s 132ms/step - loss: 0.0025 - val_loss: 0.0060\n",
      "Epoch 3/3\n",
      "20000/20000 [==============================] - 2618s 131ms/step - loss: 0.0018 - val_loss: 0.0059\n"
     ]
    }
   ],
   "source": [
    "model = Sequential()\n",
    "model.add(Lambda(lambda x: (x / 127.5) - 1, input_shape=(66, 200, 3)))\n",
    "model.add(Conv2D(24, (5, 5), activation=\"elu\", strides=(2, 2)))\n",
    "model.add(Conv2D(36, (5, 5), activation=\"elu\", strides=(2, 2)))\n",
    "model.add(Conv2D(48, (5, 5), activation=\"elu\", strides=(2, 2)))\n",
    "model.add(Conv2D(64, (3, 3), activation=\"elu\"))\n",
    "model.add(Conv2D(64, (3, 3), activation=\"elu\"))\n",
    "model.add(Flatten())\n",
    "model.add(Dropout(0.3))\n",
    "model.add(Dense(100))\n",
    "model.add(Dense(50))\n",
    "model.add(Dense(10))\n",
    "model.add(Dense(1))\n",
    "\n",
    "model.compile(loss = 'huber', optimizer = 'adam')\n",
    "\n",
    "checkpoint = ModelCheckpoint('model-{epoch:03d}.h5',\n",
    "                                 monitor='val_loss',\n",
    "                                 verbose=0,\n",
    "                                 save_best_only=True,\n",
    "                                 mode='auto')\n",
    "\n",
    "model.fit(x = generate(X_tr, y_tr),\n",
    "          steps_per_epoch = 20000,\n",
    "          validation_data = generate(X_ts, y_ts),\n",
    "          validation_steps = len(X_ts),\n",
    "          epochs = 3,\n",
    "          verbose = 1,\n",
    "          callbacks = [checkpoint])\n",
    "\n",
    "model.save('model_huber.h5')\n",
    "#model.save('model')"
   ]
  },
  {
   "cell_type": "code",
   "execution_count": null,
   "metadata": {},
   "outputs": [],
   "source": [
    "def get_data_new(df):\n",
    "    img, angle = [], []\n",
    "    for i in range(len(df.index)):\n",
    "        df.iloc[i,3] = float(df.iloc[i, 3])\n",
    "        img.append(df.iloc[i,0])\n",
    "        angle.append(df.iloc[i,3])\n",
    "    return img, angle\n",
    "\n",
    "X, y = get_data_new(df)\n",
    "\n",
    "X_tr, X_ts, y_tr, y_ts = train_test_split(X, y, random_state =42)"
   ]
  },
  {
   "cell_type": "code",
   "execution_count": null,
   "metadata": {},
   "outputs": [],
   "source": [
    "def generate(X, y, batch_size = 64):\n",
    "    \n",
    "    new_height, new_width, new_channel = (66, 200, 3)\n",
    "    \n",
    "    images = np.zeros((batch_size, new_height, new_width, new_channel))\n",
    "    angles = np.zeros((batch_size,))\n",
    "    \n",
    "    while True:\n",
    "        \n",
    "#         straight_count = 0\n",
    "        \n",
    "        for i in range(batch_size):\n",
    "            # Select a random index to use for data sample\n",
    "            ids = random.randrange(len(X))\n",
    "            angle = y[ids]\n",
    "            \n",
    "            # Limit angles of less than absolute value of .1 to no more than 1/2 of data\n",
    "            # to reduce bias of car driving straig\n",
    "#             if abs(angle) < .15:\n",
    "#                 straight_count += 1\n",
    "#             if straight_count > (batch_size * .5):\n",
    "#                 while abs(angle) < .15:\n",
    "#                     ids = random.randrange(len(X))\n",
    "                    \n",
    "            # Read image in from directory, process, and convert to numpy array\n",
    "            if exists('../data/' + str(X[ids])):\n",
    "                img = mpimg.imread('../data/' + str(X[ids]))\n",
    "                img = preprocessing(img)\n",
    "                img = np.asarray(img)\n",
    "            else:\n",
    "                continue\n",
    "\n",
    "            # Flip image and apply opposite angle 50% of the time\n",
    "            if random.randrange(2) == 1:\n",
    "                img, angle = flip(img, angle)\n",
    "            images[i] = img\n",
    "            angles[i] = angle\n",
    "        \n",
    "        yield images, angles"
   ]
  }
 ],
 "metadata": {
  "environment": {
   "name": "tf2-2-3-gpu.2-3.m58",
   "type": "gcloud",
   "uri": "gcr.io/deeplearning-platform-release/tf2-2-3-gpu.2-3:m58"
  },
  "kernelspec": {
   "display_name": "Python 3",
   "language": "python",
   "name": "python3"
  },
  "language_info": {
   "codemirror_mode": {
    "name": "ipython",
    "version": 3
   },
   "file_extension": ".py",
   "mimetype": "text/x-python",
   "name": "python",
   "nbconvert_exporter": "python",
   "pygments_lexer": "ipython3",
   "version": "3.7.8"
  }
 },
 "nbformat": 4,
 "nbformat_minor": 4
}
