{
 "cells": [
  {
   "cell_type": "markdown",
   "metadata": {},
   "source": [
    "# ![](https://ga-dash.s3.amazonaws.com/production/assets/logo-9f88ae6c9c3871690e33280fcf557f33.png) Optimizing Self-Driving\n",
    "\n",
    "Notebook 3 - Modeling (part 2)"
   ]
  },
  {
   "cell_type": "markdown",
   "metadata": {},
   "source": [
    "# Imports"
   ]
  },
  {
   "cell_type": "code",
   "execution_count": 40,
   "metadata": {},
   "outputs": [],
   "source": [
    "import pandas as pd\n",
    "import numpy as np\n",
    "from sklearn.model_selection import train_test_split\n",
    "from tensorflow.keras.models import Sequential\n",
    "from tensorflow.keras.layers import Flatten, Dense, Lambda, Conv2D, Dropout\n",
    "from tensorflow.keras.callbacks import ModelCheckpoint\n",
    "from tensorflow.keras.optimizers import Adam\n",
    "import tensorflow.keras.backend as K\n",
    "from tensorflow.keras.losses import Huber\n",
    "from utils import INPUT_SHAPE, batch_generator"
   ]
  },
  {
   "cell_type": "markdown",
   "metadata": {},
   "source": [
    "# Import Data"
   ]
  },
  {
   "cell_type": "code",
   "execution_count": 41,
   "metadata": {},
   "outputs": [],
   "source": [
    "# read in data, labeling columns\n",
    "df = pd.read_csv('../data/data-anthony/driving_log.csv', names=['center', 'left', 'right', 'steering', 'throttle', 'reverse', 'speed'])"
   ]
  },
  {
   "cell_type": "markdown",
   "metadata": {},
   "source": [
    "# Data Processing"
   ]
  },
  {
   "cell_type": "code",
   "execution_count": 42,
   "metadata": {},
   "outputs": [],
   "source": [
    "# replace local file paths to cloud file paths\n",
    "df.center = df.center.str.replace('/Users/anthonysmacbook/DSI/week_7/How_to_simulate_a_self_driving_car/data', '../data-anthony')\n",
    "df.left = df.left.str.replace('/Users/anthonysmacbook/DSI/week_7/How_to_simulate_a_self_driving_car/data', '../data-anthony')\n",
    "df.right = df.right.str.replace('/Users/anthonysmacbook/DSI/week_7/How_to_simulate_a_self_driving_car/data', '../data-anthony')"
   ]
  },
  {
   "cell_type": "code",
   "execution_count": 43,
   "metadata": {},
   "outputs": [],
   "source": [
    "# construct feature matrix and target vector\n",
    "X = df[['center', 'left', 'right']].values\n",
    "y = df['steering'].values"
   ]
  },
  {
   "cell_type": "code",
   "execution_count": 44,
   "metadata": {},
   "outputs": [],
   "source": [
    "# train test split\n",
    "X_train, X_test, y_train, y_test = train_test_split(X, y, test_size=0.3, random_state = 42)"
   ]
  },
  {
   "cell_type": "markdown",
   "metadata": {},
   "source": [
    "Note that although not shown here, the images go through a lot of processing before they are fed into the neural network. The image processing is built into the generator used in the accompanying utils.py file. This allows us to simultaneously train our model using our GPU while our data is being prepared / images are being processed on the CPU. Additionally, the generator allows us to repeatedly train our model on one lap of data."
   ]
  },
  {
   "cell_type": "markdown",
   "metadata": {},
   "source": [
    "# Modeling"
   ]
  },
  {
   "cell_type": "code",
   "execution_count": 45,
   "metadata": {
    "scrolled": true
   },
   "outputs": [],
   "source": [
    "# convolutional neural network\n",
    "model = Sequential()\n",
    "model.add(Lambda(lambda x: x/127.5-1.0, input_shape=INPUT_SHAPE)) # normalize image from -1 to 1\n",
    "model.add(Conv2D(filters=24, kernel_size=(5, 5), activation='elu', strides=2))\n",
    "model.add(Conv2D(filters=36, kernel_size=(5, 5), activation='elu', strides=2))\n",
    "model.add(Conv2D(filters=48, kernel_size=(5, 5), activation='elu', strides=2))\n",
    "model.add(Conv2D(filters=64, kernel_size=(3, 3), activation='elu'))\n",
    "model.add(Conv2D(filters=64, kernel_size=(3, 3), activation='elu'))\n",
    "model.add(Dropout(rate=0.5))\n",
    "model.add(Flatten())\n",
    "model.add(Dense(100, activation='elu'))\n",
    "model.add(Dense(50, activation='elu'))\n",
    "model.add(Dense(10, activation='elu'))\n",
    "model.add(Dense(1))"
   ]
  },
  {
   "cell_type": "code",
   "execution_count": 46,
   "metadata": {},
   "outputs": [],
   "source": [
    "# checkpoints\n",
    "checkpoint = ModelCheckpoint('model-{epoch:03d}.h5',\n",
    "                                 monitor='val_loss',\n",
    "                                 verbose=0,\n",
    "                                 save_best_only=True,\n",
    "                                 mode='auto')"
   ]
  },
  {
   "cell_type": "code",
   "execution_count": 47,
   "metadata": {},
   "outputs": [],
   "source": [
    "# custom loss function, inputs y_true and y_pred and outputs loss.\n",
    "# Includes mean squared error plus alpha and beta terms.\n",
    "# alpha penalizes frequent swerves (high frequency swerves)\n",
    "# beta penalizes large steering values (big swerves)\n",
    "def custom_loss(y_true, y_pred):\n",
    "    mse = K.sum(K.square(y_true - y_pred)) / K.cast(len(y_true), 'float32')\n",
    "    \n",
    "    sign_change_count = 0\n",
    "    \n",
    "    for i in range(1, len(y_pred)):\n",
    "        if y_pred[i] == 0 or y_pred[i-1] == 0:\n",
    "            continue\n",
    "        elif y_pred[i] / y_pred[i-1] < 0:\n",
    "            sign_change_count += 1\n",
    "                \n",
    "    alpha = 0.1\n",
    "    beta = 0.05\n",
    "    \n",
    "    y_pred_sum = K.sum(K.square(y_pred))\n",
    "    \n",
    "    loss = mse + (K.cast(alpha, 'float32') * K.cast(sign_change_count, 'float32')) + (beta * y_pred_sum)\n",
    "    return loss"
   ]
  },
  {
   "cell_type": "code",
   "execution_count": 49,
   "metadata": {},
   "outputs": [],
   "source": [
    "huber = Huber(delta=1.0)"
   ]
  },
  {
   "cell_type": "code",
   "execution_count": 50,
   "metadata": {},
   "outputs": [],
   "source": [
    "# compile model with custom loss function and optimizer\n",
    "model.compile(loss = huber, optimizer = Adam(lr=1.0e-4))"
   ]
  },
  {
   "cell_type": "code",
   "execution_count": 51,
   "metadata": {},
   "outputs": [
    {
     "name": "stdout",
     "output_type": "stream",
     "text": [
      "Epoch 1/3\n",
      "20000/20000 [==============================] - 2280s 114ms/step - loss: 0.0075 - val_loss: 0.0101\n",
      "Epoch 2/3\n",
      "20000/20000 [==============================] - 2352s 118ms/step - loss: 0.0053 - val_loss: 0.0102\n",
      "Epoch 3/3\n",
      "20000/20000 [==============================] - 2351s 118ms/step - loss: 0.0046 - val_loss: 0.0102\n"
     ]
    },
    {
     "data": {
      "text/plain": [
       "<tensorflow.python.keras.callbacks.History at 0x7f5d6407dd50>"
      ]
     },
     "execution_count": 51,
     "metadata": {},
     "output_type": "execute_result"
    }
   ],
   "source": [
    "# fit with generator\n",
    "# generator allows us to repeatedly train on one lap of data.\n",
    "model.fit(x=batch_generator('../data/data-anthony', X_train, y_train, 40, True),\n",
    "                        steps_per_epoch=20000,\n",
    "                        epochs=3,\n",
    "                        max_queue_size=1,\n",
    "                        validation_data=batch_generator('../data/data-anthony', X_test, y_test, 40, False),\n",
    "                        validation_steps=len(X_test),\n",
    "                        callbacks=[checkpoint],\n",
    "                        verbose=1)"
   ]
  },
  {
   "cell_type": "code",
   "execution_count": null,
   "metadata": {},
   "outputs": [],
   "source": []
  }
 ],
 "metadata": {
  "environment": {
   "name": "tf2-2-3-gpu.2-3.m58",
   "type": "gcloud",
   "uri": "gcr.io/deeplearning-platform-release/tf2-2-3-gpu.2-3:m58"
  },
  "kernelspec": {
   "display_name": "Python 3",
   "language": "python",
   "name": "python3"
  },
  "language_info": {
   "codemirror_mode": {
    "name": "ipython",
    "version": 3
   },
   "file_extension": ".py",
   "mimetype": "text/x-python",
   "name": "python",
   "nbconvert_exporter": "python",
   "pygments_lexer": "ipython3",
   "version": "3.7.8"
  }
 },
 "nbformat": 4,
 "nbformat_minor": 4
}
