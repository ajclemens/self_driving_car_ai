{
 "cells": [
  {
   "cell_type": "code",
   "execution_count": 52,
   "metadata": {},
   "outputs": [],
   "source": [
    "import pandas as pd\n",
    "import numpy as np\n",
    "from sklearn.model_selection import train_test_split\n",
    "from tensorflow.keras.models import Sequential\n",
    "#popular optimization strategy that uses gradient descent \n",
    "from tensorflow.keras.optimizers import Adam\n",
    "#to save our model periodically as checkpoints for loading later\n",
    "from tensorflow.keras.callbacks import ModelCheckpoint\n",
    "#what types of layers do we want our model to have?\n",
    "from tensorflow.keras.layers import Lambda, Conv2D, MaxPooling2D, Dropout, Dense, Flatten\n",
    "from utils import INPUT_SHAPE, batch_generator"
   ]
  },
  {
   "cell_type": "code",
   "execution_count": 53,
   "metadata": {},
   "outputs": [],
   "source": [
    "np.random.seed(0) #for debugging, allows for reproducible (deterministic) results "
   ]
  },
  {
   "cell_type": "code",
   "execution_count": 54,
   "metadata": {},
   "outputs": [],
   "source": [
    "df = pd.read_csv('../data/driving_log.csv', names=['center', 'left', 'right', 'steering', 'throttle', 'reverse', 'speed'])"
   ]
  },
  {
   "cell_type": "code",
   "execution_count": 55,
   "metadata": {},
   "outputs": [
    {
     "data": {
      "text/html": [
       "<div>\n",
       "<style scoped>\n",
       "    .dataframe tbody tr th:only-of-type {\n",
       "        vertical-align: middle;\n",
       "    }\n",
       "\n",
       "    .dataframe tbody tr th {\n",
       "        vertical-align: top;\n",
       "    }\n",
       "\n",
       "    .dataframe thead th {\n",
       "        text-align: right;\n",
       "    }\n",
       "</style>\n",
       "<table border=\"1\" class=\"dataframe\">\n",
       "  <thead>\n",
       "    <tr style=\"text-align: right;\">\n",
       "      <th></th>\n",
       "      <th>center</th>\n",
       "      <th>left</th>\n",
       "      <th>right</th>\n",
       "      <th>steering</th>\n",
       "      <th>throttle</th>\n",
       "      <th>reverse</th>\n",
       "      <th>speed</th>\n",
       "    </tr>\n",
       "  </thead>\n",
       "  <tbody>\n",
       "    <tr>\n",
       "      <th>0</th>\n",
       "      <td>/Users/anthonysmacbook/DSI/week_7/How_to_simul...</td>\n",
       "      <td>/Users/anthonysmacbook/DSI/week_7/How_to_simul...</td>\n",
       "      <td>/Users/anthonysmacbook/DSI/week_7/How_to_simul...</td>\n",
       "      <td>0.0</td>\n",
       "      <td>0.0</td>\n",
       "      <td>0</td>\n",
       "      <td>0.000007</td>\n",
       "    </tr>\n",
       "    <tr>\n",
       "      <th>1</th>\n",
       "      <td>/Users/anthonysmacbook/DSI/week_7/How_to_simul...</td>\n",
       "      <td>/Users/anthonysmacbook/DSI/week_7/How_to_simul...</td>\n",
       "      <td>/Users/anthonysmacbook/DSI/week_7/How_to_simul...</td>\n",
       "      <td>0.0</td>\n",
       "      <td>0.0</td>\n",
       "      <td>0</td>\n",
       "      <td>0.000002</td>\n",
       "    </tr>\n",
       "    <tr>\n",
       "      <th>2</th>\n",
       "      <td>/Users/anthonysmacbook/DSI/week_7/How_to_simul...</td>\n",
       "      <td>/Users/anthonysmacbook/DSI/week_7/How_to_simul...</td>\n",
       "      <td>/Users/anthonysmacbook/DSI/week_7/How_to_simul...</td>\n",
       "      <td>0.0</td>\n",
       "      <td>0.0</td>\n",
       "      <td>0</td>\n",
       "      <td>0.000008</td>\n",
       "    </tr>\n",
       "    <tr>\n",
       "      <th>3</th>\n",
       "      <td>/Users/anthonysmacbook/DSI/week_7/How_to_simul...</td>\n",
       "      <td>/Users/anthonysmacbook/DSI/week_7/How_to_simul...</td>\n",
       "      <td>/Users/anthonysmacbook/DSI/week_7/How_to_simul...</td>\n",
       "      <td>0.0</td>\n",
       "      <td>0.0</td>\n",
       "      <td>0</td>\n",
       "      <td>0.000009</td>\n",
       "    </tr>\n",
       "    <tr>\n",
       "      <th>4</th>\n",
       "      <td>/Users/anthonysmacbook/DSI/week_7/How_to_simul...</td>\n",
       "      <td>/Users/anthonysmacbook/DSI/week_7/How_to_simul...</td>\n",
       "      <td>/Users/anthonysmacbook/DSI/week_7/How_to_simul...</td>\n",
       "      <td>0.0</td>\n",
       "      <td>0.0</td>\n",
       "      <td>0</td>\n",
       "      <td>0.000013</td>\n",
       "    </tr>\n",
       "  </tbody>\n",
       "</table>\n",
       "</div>"
      ],
      "text/plain": [
       "                                              center  \\\n",
       "0  /Users/anthonysmacbook/DSI/week_7/How_to_simul...   \n",
       "1  /Users/anthonysmacbook/DSI/week_7/How_to_simul...   \n",
       "2  /Users/anthonysmacbook/DSI/week_7/How_to_simul...   \n",
       "3  /Users/anthonysmacbook/DSI/week_7/How_to_simul...   \n",
       "4  /Users/anthonysmacbook/DSI/week_7/How_to_simul...   \n",
       "\n",
       "                                                left  \\\n",
       "0  /Users/anthonysmacbook/DSI/week_7/How_to_simul...   \n",
       "1  /Users/anthonysmacbook/DSI/week_7/How_to_simul...   \n",
       "2  /Users/anthonysmacbook/DSI/week_7/How_to_simul...   \n",
       "3  /Users/anthonysmacbook/DSI/week_7/How_to_simul...   \n",
       "4  /Users/anthonysmacbook/DSI/week_7/How_to_simul...   \n",
       "\n",
       "                                               right  steering  throttle  \\\n",
       "0  /Users/anthonysmacbook/DSI/week_7/How_to_simul...       0.0       0.0   \n",
       "1  /Users/anthonysmacbook/DSI/week_7/How_to_simul...       0.0       0.0   \n",
       "2  /Users/anthonysmacbook/DSI/week_7/How_to_simul...       0.0       0.0   \n",
       "3  /Users/anthonysmacbook/DSI/week_7/How_to_simul...       0.0       0.0   \n",
       "4  /Users/anthonysmacbook/DSI/week_7/How_to_simul...       0.0       0.0   \n",
       "\n",
       "   reverse     speed  \n",
       "0        0  0.000007  \n",
       "1        0  0.000002  \n",
       "2        0  0.000008  \n",
       "3        0  0.000009  \n",
       "4        0  0.000013  "
      ]
     },
     "execution_count": 55,
     "metadata": {},
     "output_type": "execute_result"
    }
   ],
   "source": [
    "df.head()"
   ]
  },
  {
   "cell_type": "code",
   "execution_count": 56,
   "metadata": {},
   "outputs": [],
   "source": [
    "df.center = df.center.str.replace('/Users/anthonysmacbook/DSI/week_7/How_to_simulate_a_self_driving_car', '..')\n",
    "df.left = df.left.str.replace('/Users/anthonysmacbook/DSI/week_7/How_to_simulate_a_self_driving_car', '..')\n",
    "df.right = df.right.str.replace('/Users/anthonysmacbook/DSI/week_7/How_to_simulate_a_self_driving_car', '..')"
   ]
  },
  {
   "cell_type": "code",
   "execution_count": 57,
   "metadata": {},
   "outputs": [],
   "source": [
    "X = df[['center', 'left', 'right']].values\n",
    "y = df['steering'].values"
   ]
  },
  {
   "cell_type": "code",
   "execution_count": 58,
   "metadata": {},
   "outputs": [],
   "source": [
    "X_train, X_valid, y_train, y_valid = train_test_split(X, y, test_size=0.2, random_state=0)"
   ]
  },
  {
   "cell_type": "code",
   "execution_count": 59,
   "metadata": {},
   "outputs": [
    {
     "name": "stdout",
     "output_type": "stream",
     "text": [
      "Model: \"sequential_6\"\n",
      "_________________________________________________________________\n",
      "Layer (type)                 Output Shape              Param #   \n",
      "=================================================================\n",
      "lambda_6 (Lambda)            (None, 160, 320, 3)       0         \n",
      "_________________________________________________________________\n",
      "conv2d_30 (Conv2D)           (None, 78, 158, 24)       1824      \n",
      "_________________________________________________________________\n",
      "conv2d_31 (Conv2D)           (None, 37, 77, 36)        21636     \n",
      "_________________________________________________________________\n",
      "conv2d_32 (Conv2D)           (None, 17, 37, 48)        43248     \n",
      "_________________________________________________________________\n",
      "conv2d_33 (Conv2D)           (None, 15, 35, 64)        27712     \n",
      "_________________________________________________________________\n",
      "conv2d_34 (Conv2D)           (None, 13, 33, 64)        36928     \n",
      "_________________________________________________________________\n",
      "dropout_4 (Dropout)          (None, 13, 33, 64)        0         \n",
      "_________________________________________________________________\n",
      "flatten_4 (Flatten)          (None, 27456)             0         \n",
      "_________________________________________________________________\n",
      "dense_16 (Dense)             (None, 100)               2745700   \n",
      "_________________________________________________________________\n",
      "dense_17 (Dense)             (None, 50)                5050      \n",
      "_________________________________________________________________\n",
      "dense_18 (Dense)             (None, 10)                510       \n",
      "_________________________________________________________________\n",
      "dense_19 (Dense)             (None, 1)                 11        \n",
      "=================================================================\n",
      "Total params: 2,882,619\n",
      "Trainable params: 2,882,619\n",
      "Non-trainable params: 0\n",
      "_________________________________________________________________\n"
     ]
    }
   ],
   "source": [
    "model = Sequential()\n",
    "model.add(Lambda(lambda x: x/127.5-1.0, input_shape=INPUT_SHAPE))\n",
    "model.add(Conv2D(filters=24, kernel_size=(5, 5), activation='elu', strides=2))\n",
    "model.add(Conv2D(filters=36, kernel_size=(5, 5), activation='elu', strides=2))\n",
    "model.add(Conv2D(filters=48, kernel_size=(5, 5), activation='elu', strides=2))\n",
    "#     model.add(Conv2D(24, 5, 5, activation='elu', subsample=(2, 2)))\n",
    "#     model.add(Conv2D(36, 5, 5, activation='elu', subsample=(2, 2)))\n",
    "#     model.add(Conv2D(48, 5, 5, activation='elu', subsample=(2, 2)))\n",
    "model.add(Conv2D(filters=64, kernel_size=(3, 3), activation='elu'))\n",
    "model.add(Conv2D(filters=64, kernel_size=(3, 3), activation='elu'))\n",
    "# model.add(Dropout(args.keep_prob))\n",
    "model.add(Dropout(rate=0.5))\n",
    "model.add(Flatten())\n",
    "model.add(Dense(100, activation='elu'))\n",
    "model.add(Dense(50, activation='elu'))\n",
    "model.add(Dense(10, activation='elu'))\n",
    "model.add(Dense(1))\n",
    "model.summary()"
   ]
  },
  {
   "cell_type": "code",
   "execution_count": 60,
   "metadata": {},
   "outputs": [],
   "source": [
    "checkpoint = ModelCheckpoint('model-{epoch:03d}.h5',\n",
    "                                 monitor='val_loss',\n",
    "                                 verbose=0,\n",
    "                                 save_best_only=True,\n",
    "                                 mode='auto')"
   ]
  },
  {
   "cell_type": "code",
   "execution_count": 61,
   "metadata": {},
   "outputs": [],
   "source": [
    "  model.compile(loss='mean_squared_error', optimizer=Adam(lr=1.0e-4))"
   ]
  },
  {
   "cell_type": "code",
   "execution_count": null,
   "metadata": {},
   "outputs": [
    {
     "name": "stdout",
     "output_type": "stream",
     "text": [
      "Epoch 1/3\n",
      "  315/20000 [..............................] - ETA: 59:33 - loss: 0.0370"
     ]
    }
   ],
   "source": [
    "model.fit(x=batch_generator('../data', X_train, y_train, 40, True),\n",
    "                        steps_per_epoch=20000,\n",
    "                        epochs=3,\n",
    "                        max_queue_size=1,\n",
    "                        validation_data=batch_generator('../data', X_valid, y_valid, 40, False),\n",
    "                        validation_steps=len(X_valid),\n",
    "                        callbacks=[checkpoint],\n",
    "                        verbose=1)"
   ]
  },
  {
   "cell_type": "code",
   "execution_count": null,
   "metadata": {},
   "outputs": [],
   "source": []
  }
 ],
 "metadata": {
  "environment": {
   "name": "tf2-2-3-gpu.2-3.m56",
   "type": "gcloud",
   "uri": "gcr.io/deeplearning-platform-release/tf2-2-3-gpu.2-3:m56"
  },
  "kernelspec": {
   "display_name": "Python 3",
   "language": "python",
   "name": "python3"
  },
  "language_info": {
   "codemirror_mode": {
    "name": "ipython",
    "version": 3
   },
   "file_extension": ".py",
   "mimetype": "text/x-python",
   "name": "python",
   "nbconvert_exporter": "python",
   "pygments_lexer": "ipython3",
   "version": "3.7.8"
  }
 },
 "nbformat": 4,
 "nbformat_minor": 4
}
